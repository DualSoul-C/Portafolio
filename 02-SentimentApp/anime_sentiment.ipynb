{
 "cells": [
  {
   "cell_type": "code",
   "execution_count": 1,
   "id": "fc71d939",
   "metadata": {},
   "outputs": [],
   "source": [
    "# =============================\n",
    "# 1. Importar librerías\n",
    "# =============================\n",
    "import pandas as pd\n",
    "import torch\n",
    "from datasets import Dataset\n",
    "from transformers import AutoTokenizer, AutoModelForSequenceClassification\n",
    "from transformers import TrainingArguments, Trainer, DataCollatorWithPadding\n",
    "from sklearn.metrics import accuracy_score, f1_score\n",
    "from sklearn.preprocessing import LabelEncoder"
   ]
  },
  {
   "cell_type": "code",
   "execution_count": 3,
   "id": "f94affc7",
   "metadata": {},
   "outputs": [
    {
     "name": "stdout",
     "output_type": "stream",
     "text": [
      "✅ Dataset procesado y guardado: anime_sentiment.csv\n"
     ]
    }
   ],
   "source": [
    "# =============================\n",
    "# 2. Preparar dataset Kaggle\n",
    "# =============================\n",
    "ratings = pd.read_csv(\"./Dataset/rating.csv\")\n",
    "anime = pd.read_csv(\"./Dataset/anime.csv\")\n",
    "\n",
    "# Unir datasets\n",
    "merged = ratings.merge(anime, on=\"anime_id\")\n",
    "\n",
    "# Mapear rating a sentimiento\n",
    "def map_sentiment(score):\n",
    "    if score <= 4:\n",
    "        return \"negative\"\n",
    "    elif score <= 6:\n",
    "        return \"neutral\"\n",
    "    else:\n",
    "        return \"positive\"\n",
    "\n",
    "merged[\"sentiment\"] = merged[\"rating_x\"].apply(map_sentiment)\n",
    "\n",
    "# Crear dataset reducido (20K para pruebas)\n",
    "df = merged[[\"name\",\"sentiment\"]].dropna().sample(20000, random_state=42)\n",
    "df = df.rename(columns={\"name\": \"text\"})\n",
    "\n",
    "# Convertir labels de texto a números\n",
    "le = LabelEncoder()\n",
    "df[\"labels\"] = le.fit_transform(df[\"sentiment\"])\n",
    "\n",
    "# Guardar dataset procesado\n",
    "df.to_csv(\"anime_sentiment.csv\", index=False)\n",
    "print(\"✅ Dataset procesado y guardado: anime_sentiment.csv\")\n"
   ]
  },
  {
   "cell_type": "code",
   "execution_count": 4,
   "id": "ae5fd698",
   "metadata": {},
   "outputs": [],
   "source": [
    "# =============================\n",
    "# 3. Convertir a Hugging Face Dataset\n",
    "# =============================\n",
    "dataset = Dataset.from_pandas(df)\n",
    "dataset = dataset.train_test_split(test_size=0.2)"
   ]
  },
  {
   "cell_type": "code",
   "execution_count": 5,
   "id": "659b346e",
   "metadata": {},
   "outputs": [
    {
     "data": {
      "application/vnd.jupyter.widget-view+json": {
       "model_id": "3ebb39941eea47c2a056e65b5a31de1e",
       "version_major": 2,
       "version_minor": 0
      },
      "text/plain": [
       "Map:   0%|          | 0/16000 [00:00<?, ? examples/s]"
      ]
     },
     "metadata": {},
     "output_type": "display_data"
    },
    {
     "data": {
      "application/vnd.jupyter.widget-view+json": {
       "model_id": "a18ec23e3bf4435daaca8930776ad81e",
       "version_major": 2,
       "version_minor": 0
      },
      "text/plain": [
       "Map:   0%|          | 0/4000 [00:00<?, ? examples/s]"
      ]
     },
     "metadata": {},
     "output_type": "display_data"
    }
   ],
   "source": [
    "# =============================\n",
    "# 4. Tokenización\n",
    "# =============================\n",
    "tokenizer = AutoTokenizer.from_pretrained(\"distilbert-base-uncased\")\n",
    "\n",
    "def tokenize(batch):\n",
    "    tokens = tokenizer(batch[\"text\"], padding=True, truncation=True)\n",
    "    tokens[\"labels\"] = batch[\"labels\"]\n",
    "    return tokens\n",
    "\n",
    "dataset = dataset.map(tokenize, batched=True)"
   ]
  },
  {
   "cell_type": "code",
   "execution_count": 12,
   "id": "e34c36a3",
   "metadata": {},
   "outputs": [
    {
     "name": "stderr",
     "output_type": "stream",
     "text": [
      "Some weights of DistilBertForSequenceClassification were not initialized from the model checkpoint at distilbert-base-uncased and are newly initialized: ['classifier.bias', 'classifier.weight', 'pre_classifier.bias', 'pre_classifier.weight']\n",
      "You should probably TRAIN this model on a down-stream task to be able to use it for predictions and inference.\n"
     ]
    }
   ],
   "source": [
    "# =============================\n",
    "# 5. Preparar modelo\n",
    "# =============================\n",
    "num_labels = len(le.classes_)\n",
    "\n",
    "label2id = {\"negative\": 0, \"neutral\": 1, \"positive\": 2}\n",
    "id2label = {0: \"negative\", 1: \"neutral\", 2: \"positive\"}\n",
    "\n",
    "model = AutoModelForSequenceClassification.from_pretrained(\n",
    "    \"distilbert-base-uncased\",\n",
    "    num_labels=num_labels,\n",
    "    id2label = id2label,\n",
    "    label2id = label2id\n",
    ")"
   ]
  },
  {
   "cell_type": "code",
   "execution_count": 17,
   "id": "b12b5e6e",
   "metadata": {},
   "outputs": [
    {
     "name": "stderr",
     "output_type": "stream",
     "text": [
      "C:\\Users\\Benjamin\\AppData\\Local\\Temp\\ipykernel_9648\\1649170604.py:31: FutureWarning: `tokenizer` is deprecated and will be removed in version 5.0.0 for `Trainer.__init__`. Use `processing_class` instead.\n",
      "  trainer = Trainer(\n"
     ]
    }
   ],
   "source": [
    "# =============================\n",
    "# 6. Configuración de entrenamiento\n",
    "# =============================\n",
    "device = torch.device(\"cuda\" if torch.cuda.is_available() else \"cpu\")\n",
    "model.to(device)\n",
    "\n",
    "training_args = TrainingArguments(\n",
    "    output_dir=\"./results\",\n",
    "    eval_strategy=\"epoch\",\n",
    "    save_strategy=\"epoch\",\n",
    "    per_device_train_batch_size=16,\n",
    "    per_device_eval_batch_size=16,\n",
    "    num_train_epochs=5,\n",
    "    learning_rate=1e-5,\n",
    "    weight_decay=0.01,\n",
    "    logging_dir=\"./logs\",\n",
    "    logging_steps=50,\n",
    "    push_to_hub=False\n",
    ")\n",
    "\n",
    "def compute_metrics(eval_pred):\n",
    "    labels = eval_pred.label_ids\n",
    "    preds = eval_pred.predictions.argmax(-1)\n",
    "    return {\n",
    "        \"accuracy\": accuracy_score(labels, preds),\n",
    "        \"f1\": f1_score(labels, preds, average=\"weighted\")\n",
    "    }\n",
    "\n",
    "data_collator = DataCollatorWithPadding(tokenizer=tokenizer)\n",
    "\n",
    "trainer = Trainer(\n",
    "    model=model,\n",
    "    args=training_args,\n",
    "    train_dataset=dataset[\"train\"],\n",
    "    eval_dataset=dataset[\"test\"],\n",
    "    tokenizer=tokenizer,\n",
    "    data_collator=data_collator,\n",
    "    compute_metrics=compute_metrics\n",
    ")"
   ]
  },
  {
   "cell_type": "code",
   "execution_count": 18,
   "id": "663d7a28",
   "metadata": {},
   "outputs": [
    {
     "data": {
      "text/html": [
       "\n",
       "    <div>\n",
       "      \n",
       "      <progress value='5000' max='5000' style='width:300px; height:20px; vertical-align: middle;'></progress>\n",
       "      [5000/5000 08:16, Epoch 5/5]\n",
       "    </div>\n",
       "    <table border=\"1\" class=\"dataframe\">\n",
       "  <thead>\n",
       " <tr style=\"text-align: left;\">\n",
       "      <th>Epoch</th>\n",
       "      <th>Training Loss</th>\n",
       "      <th>Validation Loss</th>\n",
       "      <th>Accuracy</th>\n",
       "      <th>F1</th>\n",
       "    </tr>\n",
       "  </thead>\n",
       "  <tbody>\n",
       "    <tr>\n",
       "      <td>1</td>\n",
       "      <td>0.768700</td>\n",
       "      <td>0.852002</td>\n",
       "      <td>0.670500</td>\n",
       "      <td>0.563699</td>\n",
       "    </tr>\n",
       "    <tr>\n",
       "      <td>2</td>\n",
       "      <td>0.782200</td>\n",
       "      <td>0.855821</td>\n",
       "      <td>0.672750</td>\n",
       "      <td>0.562061</td>\n",
       "    </tr>\n",
       "    <tr>\n",
       "      <td>3</td>\n",
       "      <td>0.763600</td>\n",
       "      <td>0.863809</td>\n",
       "      <td>0.671750</td>\n",
       "      <td>0.565860</td>\n",
       "    </tr>\n",
       "    <tr>\n",
       "      <td>4</td>\n",
       "      <td>0.731600</td>\n",
       "      <td>0.879166</td>\n",
       "      <td>0.670750</td>\n",
       "      <td>0.568795</td>\n",
       "    </tr>\n",
       "    <tr>\n",
       "      <td>5</td>\n",
       "      <td>0.747500</td>\n",
       "      <td>0.886821</td>\n",
       "      <td>0.652250</td>\n",
       "      <td>0.576146</td>\n",
       "    </tr>\n",
       "  </tbody>\n",
       "</table><p>"
      ],
      "text/plain": [
       "<IPython.core.display.HTML object>"
      ]
     },
     "metadata": {},
     "output_type": "display_data"
    },
    {
     "data": {
      "text/plain": [
       "TrainOutput(global_step=5000, training_loss=0.7706249877929687, metrics={'train_runtime': 496.148, 'train_samples_per_second': 161.242, 'train_steps_per_second': 10.078, 'total_flos': 827397847995840.0, 'train_loss': 0.7706249877929687, 'epoch': 5.0})"
      ]
     },
     "execution_count": 18,
     "metadata": {},
     "output_type": "execute_result"
    }
   ],
   "source": [
    "# =============================\n",
    "# 7. Entrenamiento\n",
    "# =============================\n",
    "trainer.train()"
   ]
  },
  {
   "cell_type": "code",
   "execution_count": 19,
   "id": "a818d617",
   "metadata": {},
   "outputs": [
    {
     "name": "stdout",
     "output_type": "stream",
     "text": [
      "✅ Modelo guardado en ./anime-sentiment-model\n"
     ]
    }
   ],
   "source": [
    "# =============================\n",
    "# 8. Guardar modelo entrenado\n",
    "# =============================\n",
    "trainer.save_model(\"anime-sentiment-model\")\n",
    "tokenizer.save_pretrained(\"anime-sentiment-model\")\n",
    "print(\"✅ Modelo guardado en ./anime-sentiment-model\")"
   ]
  },
  {
   "cell_type": "code",
   "execution_count": null,
   "id": "6b2724fc",
   "metadata": {},
   "outputs": [
    {
     "name": "stderr",
     "output_type": "stream",
     "text": [
      "Device set to use cuda:0\n"
     ]
    },
    {
     "name": "stdout",
     "output_type": "stream",
     "text": [
      "Texto: Attack on Titan es una basura!\n",
      " → Predicción: positive (confianzaa 0.78)\n",
      "\n",
      "Texto: Boruto feels too slow and boring...\n",
      " → Predicción: positive (confianzaa 0.51)\n",
      "\n",
      "Texto: Naruto Shippuden has good and bad arcs\n",
      " → Predicción: positive (confianzaa 0.52)\n",
      "\n"
     ]
    }
   ],
   "source": [
    "# =============================\n",
    "# 9. Probar el modelo\n",
    "# =============================\n",
    "from transformers import pipeline\n",
    "\n",
    "classifier = pipeline(\"sentiment-analysis\", model=\"anime-sentiment-model\", tokenizer=\"anime-sentiment-model\")\n",
    "\n",
    "examples = [\n",
    "    \"Attack on Titan is a masterpiece!\",\n",
    "    \"Boruto feels too slow and boring...\",\n",
    "    \"Naruto Shippuden has good and bad arcs\"\n",
    "]\n",
    "\n",
    "for text in examples:\n",
    "    result = classifier(text)[0]\n",
    "    print(f\"Texto: {text}\\n → Predicción: {result['label']} (confianzaa {result['score']:.2f})\\n\")"
   ]
  }
 ],
 "metadata": {
  "kernelspec": {
   "display_name": "Python 3",
   "language": "python",
   "name": "python3"
  },
  "language_info": {
   "codemirror_mode": {
    "name": "ipython",
    "version": 3
   },
   "file_extension": ".py",
   "mimetype": "text/x-python",
   "name": "python",
   "nbconvert_exporter": "python",
   "pygments_lexer": "ipython3",
   "version": "3.13.5"
  }
 },
 "nbformat": 4,
 "nbformat_minor": 5
}
